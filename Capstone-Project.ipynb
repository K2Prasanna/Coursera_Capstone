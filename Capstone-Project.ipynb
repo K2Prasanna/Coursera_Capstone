{
 "cells": [
  {
   "cell_type": "markdown",
   "metadata": {},
   "source": [
    "<h1><center>Analysis of Tourist Accommodation in Manhattan, New York</center></h1>"
   ]
  },
  {
   "cell_type": "markdown",
   "metadata": {
    "slideshow": {
     "slide_type": "slide"
    }
   },
   "source": [
    "## Table of Contents\n",
    "1. [Introduction](#intro)   \n",
    "    1.1 [Background](#back)   \n",
    "    1.2 [Problem Statement](#probstat)   \n",
    "2. [Data](#datasrc)   \n",
    "    2.1 [Data Sources](#dts)   \n",
    "    2.2 [Solution Approach](#slN)    \n",
    "3. [References](#ref)\n"
   ]
  },
  {
   "cell_type": "markdown",
   "metadata": {},
   "source": [
    "<a id=\"intro\"></a>\n",
    "## 1. Introduction  \n",
    "<a id=\"back\"></a>\n",
    "### 1.1 Background   "
   ]
  },
  {
   "cell_type": "markdown",
   "metadata": {},
   "source": [
    "New York City, NYC, is the most populated city in the USA and largest metropolitan area in the world. NYC has been described as the cultural, financial, and media capital of the world, and exerts a significant impact upon commerce, entertainment, research, technology, education, politics, tourism, art, fashion, and sports. Many districts and landmarks in New York City are well known, including three of the world's ten most visited tourist attractions in 2013; a record 62.8 million tourists visited in 2017. Several sources have ranked New York the most photographed city in the world.\n",
    "\n",
    "Manhattan is the most densely populated of the five boroughs of New York City and serves as the city's economic and administrative center. Manhattan has been described as the cultural, financial, media, and entertainment capital of the world. Manhattan hosts three of the world's 10 most-visited tourist attractions in 2013: Times Square, Central Park, and Grand Central Terminal. As one of world’s greatest tourists’ destination, tourism is vital to Manhattan's economy, and the landmarks of Manhattan are the focus of New York City's tourists. As of June 2016, Manhattan had nearly 91,500 hotel rooms, a 26% increase from 2010.\n",
    "\n",
    "Airbnb, Inc. is an online marketplace for arranging or offering lodging, primarily homestays, or tourism experiences. Airbnb provides a platform for hosts to accommodate guests with short-term lodging and tourism-related activities. Guests can search for lodging using filters such as lodging type, dates, location, and price. Guests have the ability to search for specific types of homes, such as bed and breakfasts, unique homes, and vacation homes.\n",
    "\n",
    "It would help to guide a visitor looking for an accommodation and a AirBnB property owner to set right price if we can characterize or cluster the Manhattan neighborhoods in terms of \n",
    "1. AirBnB properties density and prices\n",
    "2. Places of interests within the neighborhood\n"
   ]
  },
  {
   "cell_type": "markdown",
   "metadata": {},
   "source": [
    "<a id=\"probstat\"></a>\n",
    "### 1.2 Problem Statement   \n",
    "With this exercise, we shall try to address below problems.   \n",
    "•\tIs there any co-relation between places of interests and AirBnB property values? If yes, can we describe it.   \n",
    "•\tHow to choose the most suitable and convenient location as per the purpose of visit?    \n",
    "•\tCan we characterize the Manhattan neighborhoods in terms of the places of interests and AirBnB properties density and prices?    \n",
    "•\tCan we come up with any guidelines for setting the right price for a property while being listed on AirBnB?    \n"
   ]
  },
  {
   "cell_type": "markdown",
   "metadata": {},
   "source": [
    "<a id=\"datasrc\"></a>\n",
    "## 2 Data   \n",
    "<a id=\"dts\"></a>\n",
    "### 2.1 Data Sources\n",
    "__• Manhattan, NY Geo Data__   \n",
    "This dataset holds longitude and latitude co-ordinates for all the neighborhoods in Manhattan, NY. Most of the data is available in a json file at https://cocl.us/new_york_dataset , though it is missing few neighborhoods which are part of our AirBnB dataset. For the missing ones, I used geocoder api to get the co-ordinates. As we get the data, I have created a csv file, NY_MH_NEIGHBORHOODS.csv , which can be used for subsequent executions. This saves execution time by removing the outgoing network calls for geocoder api, and json file and parsing of json file for required data."
   ]
  },
  {
   "cell_type": "markdown",
   "metadata": {},
   "source": [
    "__• Manhattan, NY Four Square Data__   \n",
    "This dataset holds data related to venues of interests in neighborhoods. These venues can be business or financial centers, exhibitions, recreational places, transit facilities, recreational places, sports, restaurants, fastfoods, gourmet joints, and so on. Again, I created a file, NY_FOURSQUARE_DATA.csv, which holds collected data for subsequent executions. This helps to reduce redundant calls to Four Square API as these calls and processing involved is time consuming and costly. \n",
    "I shall use a reference _value_cat.csv_ (https://github.com/K2Prasanna/Coursera_Capstone/blob/master/resources/venue_cat_ny.csv) to map Four Square Venue categories to fewer borader categories.\n",
    "\n",
    "Features to be used for FourSquare API response for each venue are:   \n",
    "    Neighboorhood Name   \n",
    "    Venue Name   \n",
    "    Venue Category   \n",
    "    Venue Location (Longitude and Latitude)    \n",
    "    Classification: Broader classification for the venue category.    "
   ]
  },
  {
   "cell_type": "markdown",
   "metadata": {},
   "source": [
    "__• Manhattan, NY AirBnB Data__   \n",
    "There is a dataset, AB_NYC_2019.csv, available on Kaggle which has AirBnb properties data for NY. Link to the dataset is https://www.kaggle.com/dgomonov/new-york-city-airbnb-open-data/downloads/new-york-city-airbnb-open-data.zip/3. \n",
    "This dataset contains listing of AirBnB properties with their below features:   \n",
    "        Owner Name   \n",
    "        Borough   \n",
    "        Neighborhood   \n",
    "        Price per night   \n",
    "        Minimum nights   \n",
    "        Availability over an year   \n",
    "        Number of reviews   \n",
    "        Last review Date   \n",
    "        Reviews per month    \n",
    "        Calculated host listing count    "
   ]
  },
  {
   "cell_type": "markdown",
   "metadata": {},
   "source": [
    "### 2.2 Solution Approach\n",
    "The section outlines how the data will be processed and modeled to achieve the required analysis. Below diagram depicts the stages involved and high level description of tasks to be performed in each step."
   ]
  },
  {
   "cell_type": "markdown",
   "metadata": {},
   "source": [
    "<div class=\"mxgraph\" style=\"max-width:100%;border:1px solid transparent;\" data-mxgraph=\"{&quot;highlight&quot;:&quot;#0000ff&quot;,&quot;nav&quot;:true,&quot;resize&quot;:true,&quot;page&quot;:1,&quot;toolbar&quot;:&quot;pages zoom layers lightbox&quot;,&quot;edit&quot;:&quot;_blank&quot;,&quot;xml&quot;:&quot;&lt;mxfile host=\\&quot;www.draw.io\\&quot; modified=\\&quot;2019-12-20T04:49:59.430Z\\&quot; agent=\\&quot;Mozilla/5.0 (Windows NT 10.0; Win64; x64) AppleWebKit/537.36 (KHTML, like Gecko) Chrome/75.0.3770.90 Safari/537.36\\&quot; version=\\&quot;12.4.3\\&quot; etag=\\&quot;tbgzJHdcEnwCiYHJ28fC\\&quot; pages=\\&quot;2\\&quot;&gt;&lt;diagram id=\\&quot;PeaL8ZJk38-GnVJ6THp9\\&quot; name=\\&quot;Raw flow\\&quot;&gt;7Vvbbts4EP0aP3ahiyU7j4mTZtE2iwUMdJu+FLRES+xSopaifOnXL0lRN9NOlPWFcrtA4JgjkhJn5szMIeWRO0s2jxRk8RMJIR45VrgZufcjx7HHjjMSf1a4LSUT2y0FEUWh6tQI5ugHVEJLSQsUwrzTkRGCGcq6woCkKQxYRwYoJetutyXB3btmIIKaYB4ArEv/QiGLS+nUsxr57xBFcXVn21JXElB1VoI8BiFZt0Tuw8idUUJY+S3ZzCAWyqv0Uo57f+Bq/WAUpqzPgG+3twVzH8nmgxt9nn//ijEL3inr5GxbLRiGfP2qSSiLSURSgB8a6R0lRRpCMavFW02fT4RkXGhz4XfI2FYZExSMcFHMEqyulvcUNzq4FCXKSUED+MLz27UiuQdCkkBGt3wchRgwtOrOD5QrRHW/euifBPE7O5Zy29pmymntidWdggEaQaZGNTrnX1qP0YikJd5gFfXAK4ALtQQ+KRfcAwY0gzXmELpdx4jBeQak1tYck/tUv4KUwc3LyteVqgZ4O7oZq/a6gYdd6S9uQcO3Dpuho8C3amt85T7snsWH3RuzPuxqPvzx3RMEac6FM1zkDFKURjKcizAPmfwk34LymnE312KAcT/3rlyjmke6Xj+N7nruyTQ6MRE54AaxL63vz2Kq3zzVut+omWVjqxonjDb+RTKmZrMzRxtfw8Ytonfp3UCTpmM8mNz8gq4/PYvrjy2zrj/VXP9hk2FCASNyeaH0fwtwQ21zlFf5gdOqlKGl6IES7vqszB1LCFhBOeMyjRgtohiHTEVJW5ouY4u1QnkBMPrB3YjIdLwkVDzBClBBL/myKQrkf5GGLc75EmGGbQalYUJhJZjmiIn1g4CSXEySikUtCI0JCc3bQ3PzffbwLmoPI+TVcAyzL8N43UszXp3yvueqmP9TcB0NNIm75iOSZwIBp/Tm83DfsWlv1snvE0pRIjTK43qRLGQeIEvpkWkhpAFgMCIUidRrLYQSAgzynGdoRepi2augUss7/fk6RE5fUAJCMbUPEuH+6SLPpME6vQeW2PfCyL8ojKbXkki4iun2S7vRGiWazTDZOkcCUlSrhNBLHSdHYvs4m+qMcEZ5bQubijiXOyRrxJ3Osf7oFlvigQSsQu7mVYm2F6myX0BwkaTmoaXFvX3QGl8UWr8izzza8/dntelOBT7etdq5s9pEg1QvpimMSXOmeA7KGUWLQjClF1PgQGmQb/eA2EVpUO2WRiBmmYFY6wT1lBDzdyF2c1mIOdde0J/JLhPf69jFu3BB7+hbPx8TdfQSaEcvra21neBlRdxYWVU2lLtBGebhKq9iIV8ApDBn5gPdzYFsYy7QGTno/S+Bri7TbWNluqM2x14t051jKfhxNnU0YN2Gok74rGqCWUmCUQBUxYDBAuK6tjjxJtESYTwjvKSRY93Qg9NwzOW8ZiF/w9aVqbNwff9EVbs3OKTp+xePKnCV2xCq0pPbFK9bqtrhzgNe+YmuEARxEwxN70cMT/1GSdO1BbpJ30B37PHfcTbVydObAt0Jj7ONBLndcqKu4IyhzL0a3jQElE17osw9lgAchzL9MHx/nS4RNqxXROq8MxyEuP8jpP9bnFZfhDgmEeLqTLbMQzUYfvJEtFvuDQBmvlGY1dB6bl157fipQdZzB1jnh1lfXlu+XGoMZjqvPcygekBv2BRqeJlLf1f6BOqvSvXg5zCTf0Yz8Wbzy6ZyF7b5fZj78C8=&lt;/diagram&gt;&lt;diagram id=\\&quot;7g32jA8XWPV8pE-1HzTo\\&quot; name=\\&quot;Stages\\&quot;&gt;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&lt;/diagram&gt;&lt;/mxfile&gt;&quot;}\"></div>\n",
    "<script type=\"text/javascript\" src=\"https://www.draw.io/js/viewer.min.js\"></script>"
   ]
  },
  {
   "cell_type": "markdown",
   "metadata": {},
   "source": [
    "<img src=\"https://github.com/K2Prasanna/Coursera_Capstone/blob/master/resources/Capstone-Solution.jpg?raw=true\"/>"
   ]
  },
  {
   "cell_type": "markdown",
   "metadata": {},
   "source": [
    "__Description__   \n",
    "I shall start with __Data preparation__, where I shall encode neighborhood names to integers and update all the datasets to use the numerical values for neighborhoods. I shall also use the geo data co-ordinates for FourSquare API to get venues in a neighborhoods. Then I shall work to minimize the number of venue categories as Four Square API will return 220+ categories. This almost nullifies the clustering as most of them will be having zero values for many of the neighborhoods. So we consolidate the categories in a broader category. For that I have created a reference as _value_cat.csv_. Then I transform the dataset so that all neighborhoods are as index and each category as columns, with number of venues in that category and neighborhood as values."
   ]
  },
  {
   "cell_type": "markdown",
   "metadata": {},
   "source": [
    "As part of __Exploratory data analysis__, I shall analyze the AirBnB dataset to understand what all the features have any relationship with the price and select those for further steps, and also around the preliminary analysis about the density and average prices across neighborhoods. I shall try to plot the average prices and count values for each neighborhoods to get any inference around their distribution. I shall perform similar analysis for venues/foursquare data."
   ]
  },
  {
   "cell_type": "markdown",
   "metadata": {},
   "source": [
    "In __Modelling__, I shall perform clustering first on venues data and come up with numerical cluster labels for each neighborhoods. The we use the venue cluster labels as additional data in AirBnB dataset and perform clustering. I shall try to compare the clustering algorithms and their suitability for the exercise in both cases."
   ]
  },
  {
   "cell_type": "markdown",
   "metadata": {},
   "source": [
    "As part of __Report__ stage, I shall describe both types of clusters (Four Square Venues and AirBnB) independently and combined. I shall visualize the clusters over folium map of Manhattan. In __Discussion and Conclusion__ section, I shall try to explain co-relation between places of interests and AirBnB property values and describe nighborhoods in terms these clusters. I shall discuss the observations from the exercise, and how the report can help for AirBnB users and tourists."
   ]
  },
  {
   "cell_type": "markdown",
   "metadata": {},
   "source": [
    "<a id=\"ref\"></a>\n",
    "## 3. References\n",
    "https://www.wikipedia.org/    \n",
    "https://www.kaggle.com/   \n",
    "https://cocl.us/new_york_dataset   \n"
   ]
  }
 ],
 "metadata": {
  "kernelspec": {
   "display_name": "Python",
   "language": "python",
   "name": "conda-env-python-py"
  },
  "language_info": {
   "codemirror_mode": {
    "name": "ipython",
    "version": 3
   },
   "file_extension": ".py",
   "mimetype": "text/x-python",
   "name": "python",
   "nbconvert_exporter": "python",
   "pygments_lexer": "ipython3",
   "version": "3.6.7"
  }
 },
 "nbformat": 4,
 "nbformat_minor": 4
}
