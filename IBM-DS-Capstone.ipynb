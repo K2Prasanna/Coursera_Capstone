{
    "nbformat_minor": 2, 
    "cells": [
        {
            "source": "# IBM Data Science Certification: Capstone Project\n## Prasanna Kulkarni\nThis notebook is created for Capstone project from IBM Data Science Certification on Coursera.", 
            "cell_type": "markdown", 
            "metadata": {}
        }, 
        {
            "execution_count": 7, 
            "cell_type": "code", 
            "source": "# import numpy and pandas libs\nimport pandas as pd\nimport numpy as np\nprint('Pandas version: ' + pd.__version__)\nprint('Numpy version: ' + np.__version__)", 
            "outputs": [
                {
                    "output_type": "stream", 
                    "name": "stdout", 
                    "text": "Pandas version: 0.24.2\nNumpy version: 1.16.4\n"
                }
            ], 
            "metadata": {}
        }, 
        {
            "execution_count": 2, 
            "cell_type": "code", 
            "source": "print('Hello Capstone Project Course!')", 
            "outputs": [
                {
                    "output_type": "stream", 
                    "name": "stdout", 
                    "text": "Hello Capstone Project Course!\n"
                }
            ], 
            "metadata": {}
        }
    ], 
    "nbformat": 4, 
    "metadata": {
        "kernelspec": {
            "display_name": "Python 3", 
            "name": "python3", 
            "language": "python"
        }, 
        "language_info": {
            "mimetype": "text/x-python", 
            "nbconvert_exporter": "python", 
            "version": "3.7.3", 
            "name": "python", 
            "file_extension": ".py", 
            "pygments_lexer": "ipython3", 
            "codemirror_mode": {
                "version": 3, 
                "name": "ipython"
            }
        }
    }
}